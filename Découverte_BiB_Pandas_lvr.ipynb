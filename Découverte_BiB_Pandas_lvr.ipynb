{
 "cells": [
  {
   "cell_type": "markdown",
   "id": "9939843f",
   "metadata": {},
   "source": [
    "# DataFrames Pandas"
   ]
  },
  {
   "cell_type": "markdown",
   "id": "e86cfebc",
   "metadata": {},
   "source": [
    "## Création d'un DataFrame à partir d'un dictionnaire"
   ]
  },
  {
   "cell_type": "code",
   "execution_count": 13,
   "id": "ea4dc838",
   "metadata": {},
   "outputs": [],
   "source": [
    "import pandas as pd"
   ]
  },
  {
   "cell_type": "code",
   "execution_count": 14,
   "id": "368531b8",
   "metadata": {},
   "outputs": [
    {
     "name": "stdout",
     "output_type": "stream",
     "text": [
      "   Col1  Col2 Col3\n",
      "0     1   1.0    a\n",
      "1     2   2.0    b\n",
      "2     3   3.0    c\n"
     ]
    }
   ],
   "source": [
    "myDataset = pd.DataFrame({'Col1':[1,2,3], 'Col2':[1.0,2.0,3.0], 'Col3': ['a', 'b', 'c']})\n",
    "print(myDataset)"
   ]
  },
  {
   "cell_type": "code",
   "execution_count": 15,
   "id": "f7f50762",
   "metadata": {},
   "outputs": [
    {
     "name": "stdout",
     "output_type": "stream",
     "text": [
      "Le type des colonnes :\n",
      "Col1      int64\n",
      "Col2    float64\n",
      "Col3     object\n",
      "dtype: object\n"
     ]
    }
   ],
   "source": [
    "print(\"Le type des colonnes :\\n{}\".format(myDataset.dtypes))"
   ]
  },
  {
   "cell_type": "code",
   "execution_count": 16,
   "id": "356b4e36",
   "metadata": {},
   "outputs": [],
   "source": [
    "myDataset[\"Col1\"] = myDataset[\"Col1\"].astype(float)"
   ]
  },
  {
   "cell_type": "code",
   "execution_count": 17,
   "id": "bdec3e74",
   "metadata": {},
   "outputs": [
    {
     "name": "stdout",
     "output_type": "stream",
     "text": [
      "Le nouveau type des colonnes :\n",
      "Col1    float64\n",
      "Col2    float64\n",
      "Col3     object\n",
      "dtype: object\n"
     ]
    }
   ],
   "source": [
    "print(\"Le nouveau type des colonnes :\\n{}\".format(myDataset.dtypes))"
   ]
  },
  {
   "cell_type": "code",
   "execution_count": 18,
   "id": "ec715064",
   "metadata": {},
   "outputs": [
    {
     "name": "stdout",
     "output_type": "stream",
     "text": [
      "        0    1    2\n",
      "Col1    1    2    3\n",
      "Col2  1.0  2.0  3.0\n",
      "Col3    a    b    c\n"
     ]
    }
   ],
   "source": [
    "myDataset = pd.DataFrame.from_dict({'Col1':[1,2,3], 'Col2':[1.0,2.0,3.0], 'Col3': ['a', 'b', 'c']}, orient='index')\n",
    "print(myDataset)"
   ]
  },
  {
   "cell_type": "markdown",
   "id": "060b3dac",
   "metadata": {},
   "source": [
    "## Création d'un DataFrame à partir d'un tableau NumPy"
   ]
  },
  {
   "cell_type": "code",
   "execution_count": null,
   "id": "ed582ded",
   "metadata": {},
   "outputs": [],
   "source": []
  }
 ],
 "metadata": {
  "kernelspec": {
   "display_name": "Python 3 (ipykernel)",
   "language": "python",
   "name": "python3"
  },
  "language_info": {
   "codemirror_mode": {
    "name": "ipython",
    "version": 3
   },
   "file_extension": ".py",
   "mimetype": "text/x-python",
   "name": "python",
   "nbconvert_exporter": "python",
   "pygments_lexer": "ipython3",
   "version": "3.12.7"
  }
 },
 "nbformat": 4,
 "nbformat_minor": 5
}
