{
 "cells": [
  {
   "cell_type": "code",
   "execution_count": 1,
   "id": "60d6e288",
   "metadata": {},
   "outputs": [],
   "source": [
    "import numpy as np"
   ]
  },
  {
   "cell_type": "code",
   "execution_count": 2,
   "id": "f7d1ce6b",
   "metadata": {},
   "outputs": [
    {
     "data": {
      "text/plain": [
       "array([[5, 0, 3],\n",
       "       [3, 7, 9]])"
      ]
     },
     "execution_count": 2,
     "metadata": {},
     "output_type": "execute_result"
    }
   ],
   "source": [
    "np.random.seed(0)\n",
    "A = np.random.randint(0,10, [2,3])\n",
    "A"
   ]
  },
  {
   "cell_type": "markdown",
   "id": "d43b4cd7",
   "metadata": {},
   "source": [
    "# Méthodes ndarray"
   ]
  },
  {
   "cell_type": "code",
   "execution_count": 3,
   "id": "4f7650ba",
   "metadata": {},
   "outputs": [],
   "source": [
    "#Oppération aritmétique et de trie sur une matrice de donner ou Tableaun à N dimension"
   ]
  },
  {
   "cell_type": "code",
   "execution_count": 4,
   "id": "457eabbd",
   "metadata": {},
   "outputs": [
    {
     "data": {
      "text/plain": [
       "array([ 8,  7, 12])"
      ]
     },
     "execution_count": 4,
     "metadata": {},
     "output_type": "execute_result"
    }
   ],
   "source": [
    "A.sum(axis=0)"
   ]
  },
  {
   "cell_type": "code",
   "execution_count": 5,
   "id": "dd2a48c8",
   "metadata": {},
   "outputs": [
    {
     "data": {
      "text/plain": [
       "array([ 5,  5,  8, 11, 18, 27], dtype=int32)"
      ]
     },
     "execution_count": 5,
     "metadata": {},
     "output_type": "execute_result"
    }
   ],
   "source": [
    "A.cumsum()"
   ]
  },
  {
   "cell_type": "code",
   "execution_count": 6,
   "id": "e957fd9f",
   "metadata": {},
   "outputs": [
    {
     "data": {
      "text/plain": [
       "0"
      ]
     },
     "execution_count": 6,
     "metadata": {},
     "output_type": "execute_result"
    }
   ],
   "source": [
    "A.prod()"
   ]
  },
  {
   "cell_type": "code",
   "execution_count": 7,
   "id": "5881227e",
   "metadata": {},
   "outputs": [
    {
     "data": {
      "text/plain": [
       "array([5, 0, 0, 0, 0, 0], dtype=int32)"
      ]
     },
     "execution_count": 7,
     "metadata": {},
     "output_type": "execute_result"
    }
   ],
   "source": [
    "A.cumprod()"
   ]
  },
  {
   "cell_type": "code",
   "execution_count": 8,
   "id": "702f076d",
   "metadata": {},
   "outputs": [
    {
     "data": {
      "text/plain": [
       "array([3, 0, 3])"
      ]
     },
     "execution_count": 8,
     "metadata": {},
     "output_type": "execute_result"
    }
   ],
   "source": [
    "A.min(axis=0)"
   ]
  },
  {
   "cell_type": "code",
   "execution_count": 9,
   "id": "c556b4c2",
   "metadata": {},
   "outputs": [
    {
     "data": {
      "text/plain": [
       "array([1, 0, 0], dtype=int64)"
      ]
     },
     "execution_count": 9,
     "metadata": {},
     "output_type": "execute_result"
    }
   ],
   "source": [
    "A.argmin(axis=0)"
   ]
  },
  {
   "cell_type": "code",
   "execution_count": 10,
   "id": "c27a75df",
   "metadata": {
    "scrolled": false
   },
   "outputs": [
    {
     "data": {
      "text/plain": [
       "array([[1, 2, 0],\n",
       "       [0, 1, 2]], dtype=int64)"
      ]
     },
     "execution_count": 10,
     "metadata": {},
     "output_type": "execute_result"
    }
   ],
   "source": [
    "A.argsort()"
   ]
  },
  {
   "cell_type": "markdown",
   "id": "cd6a7676",
   "metadata": {},
   "source": [
    "# Oppération mathèmatique complexe"
   ]
  },
  {
   "cell_type": "code",
   "execution_count": 11,
   "id": "95dae0b5",
   "metadata": {},
   "outputs": [],
   "source": [
    "#Oppération mathèmatique complexe sur des matrices et tableaux à N dimension"
   ]
  },
  {
   "cell_type": "code",
   "execution_count": 12,
   "id": "1bc2cbd2",
   "metadata": {},
   "outputs": [
    {
     "data": {
      "text/plain": [
       "array([[1.48413159e+02, 1.00000000e+00, 2.00855369e+01],\n",
       "       [2.00855369e+01, 1.09663316e+03, 8.10308393e+03]])"
      ]
     },
     "execution_count": 12,
     "metadata": {},
     "output_type": "execute_result"
    }
   ],
   "source": [
    "# Pour toute applictaiton de fonction mathématique complexe appliquè avec le nom du module\n",
    "np.exp(A)"
   ]
  },
  {
   "cell_type": "markdown",
   "id": "76071e22",
   "metadata": {},
   "source": [
    "# Statistiques"
   ]
  },
  {
   "cell_type": "code",
   "execution_count": 13,
   "id": "fa4e9dce",
   "metadata": {},
   "outputs": [],
   "source": [
    "#statistiques sur des matrice et tableaux à N dimension"
   ]
  },
  {
   "cell_type": "code",
   "execution_count": 14,
   "id": "d8f6c66a",
   "metadata": {},
   "outputs": [
    {
     "data": {
      "text/plain": [
       "4.5"
      ]
     },
     "execution_count": 14,
     "metadata": {},
     "output_type": "execute_result"
    }
   ],
   "source": [
    "A.mean()#Moyenne du tableaux"
   ]
  },
  {
   "cell_type": "code",
   "execution_count": 15,
   "id": "39def412",
   "metadata": {},
   "outputs": [
    {
     "data": {
      "text/plain": [
       "2.9297326385411577"
      ]
     },
     "execution_count": 15,
     "metadata": {},
     "output_type": "execute_result"
    }
   ],
   "source": [
    "A.std()#écart type"
   ]
  },
  {
   "cell_type": "code",
   "execution_count": 16,
   "id": "0330ea3d",
   "metadata": {},
   "outputs": [
    {
     "data": {
      "text/plain": [
       "8.583333333333334"
      ]
     },
     "execution_count": 16,
     "metadata": {},
     "output_type": "execute_result"
    }
   ],
   "source": [
    "A.var()#variance"
   ]
  },
  {
   "cell_type": "code",
   "execution_count": 17,
   "id": "39eb24bd",
   "metadata": {},
   "outputs": [
    {
     "data": {
      "text/plain": [
       "array([[ 1.        , -0.56362148],\n",
       "       [-0.56362148,  1.        ]])"
      ]
     },
     "execution_count": 17,
     "metadata": {},
     "output_type": "execute_result"
    }
   ],
   "source": [
    "#Matrice de corrélation\n",
    "np.corrcoef(A)"
   ]
  },
  {
   "cell_type": "code",
   "execution_count": 18,
   "id": "0795fb5d",
   "metadata": {},
   "outputs": [
    {
     "data": {
      "text/plain": [
       "-0.5636214801906779"
      ]
     },
     "execution_count": 18,
     "metadata": {},
     "output_type": "execute_result"
    }
   ],
   "source": [
    "np.corrcoef(A)[0, 1]"
   ]
  },
  {
   "cell_type": "code",
   "execution_count": 19,
   "id": "4cf08411",
   "metadata": {},
   "outputs": [
    {
     "data": {
      "text/plain": [
       "(array([0, 3, 5, 7, 9]), array([1, 2, 1, 1, 1], dtype=int64))"
      ]
     },
     "execution_count": 19,
     "metadata": {},
     "output_type": "execute_result"
    }
   ],
   "source": [
    "np.unique(A, return_counts = True)\n",
    "#Le premier Tableau contient toute les entité de ma matrice\n",
    "#Le deuxième Tableau retourne le nombre de répétition de chaque entité présente dans le tableau"
   ]
  },
  {
   "cell_type": "code",
   "execution_count": 20,
   "id": "f30bf138",
   "metadata": {},
   "outputs": [
    {
     "data": {
      "text/plain": [
       "array([[5, 0, 3, 3, 7],\n",
       "       [9, 3, 5, 2, 4],\n",
       "       [7, 6, 8, 8, 1],\n",
       "       [6, 7, 7, 8, 1],\n",
       "       [5, 9, 8, 9, 4]])"
      ]
     },
     "execution_count": 20,
     "metadata": {},
     "output_type": "execute_result"
    }
   ],
   "source": [
    "#regénération d'un tableau pour un exercice \n",
    "np.random.seed(0)\n",
    "B = np.random.randint(0,10, [5,5])\n",
    "B"
   ]
  },
  {
   "cell_type": "code",
   "execution_count": 21,
   "id": "e00b0358",
   "metadata": {},
   "outputs": [],
   "source": [
    "values, counts = np.unique(B, return_counts=True)"
   ]
  },
  {
   "cell_type": "code",
   "execution_count": 22,
   "id": "f2030c9e",
   "metadata": {},
   "outputs": [
    {
     "data": {
      "text/plain": [
       "array([0, 2, 1, 4, 6, 3, 5, 9, 7, 8], dtype=int64)"
      ]
     },
     "execution_count": 22,
     "metadata": {},
     "output_type": "execute_result"
    }
   ],
   "source": [
    "counts.argsort()"
   ]
  },
  {
   "cell_type": "code",
   "execution_count": 23,
   "id": "e28d130a",
   "metadata": {},
   "outputs": [
    {
     "data": {
      "text/plain": [
       "array([0, 2, 1, 4, 6, 3, 5, 9, 7, 8])"
      ]
     },
     "execution_count": 23,
     "metadata": {},
     "output_type": "execute_result"
    }
   ],
   "source": [
    "values[counts.argsort()]"
   ]
  },
  {
   "cell_type": "code",
   "execution_count": 24,
   "id": "afc87f30",
   "metadata": {},
   "outputs": [
    {
     "name": "stdout",
     "output_type": "stream",
     "text": [
      "valeur 0 apparait 1 fois\n",
      "valeur 2 apparait 1 fois\n",
      "valeur 1 apparait 2 fois\n",
      "valeur 4 apparait 2 fois\n",
      "valeur 6 apparait 2 fois\n",
      "valeur 3 apparait 3 fois\n",
      "valeur 5 apparait 3 fois\n",
      "valeur 9 apparait 3 fois\n",
      "valeur 7 apparait 4 fois\n",
      "valeur 8 apparait 4 fois\n"
     ]
    }
   ],
   "source": [
    "for i, j in zip(values[counts.argsort()], counts[counts.argsort()]):\n",
    "    print(f\"valeur {i} apparait {j} fois\")"
   ]
  },
  {
   "cell_type": "markdown",
   "id": "914a6843",
   "metadata": {},
   "source": [
    "# NAN Corrections"
   ]
  },
  {
   "cell_type": "markdown",
   "id": "fe2f458f",
   "metadata": {},
   "source": [
    "Quand nous rencontrons des donner corrompu dans notre tableaux naturel elles seront retrancrite en NaN == Not A Number "
   ]
  },
  {
   "cell_type": "code",
   "execution_count": 26,
   "id": "b25ff844",
   "metadata": {},
   "outputs": [
    {
     "data": {
      "text/plain": [
       "array([[ 0.44386323,  0.33367433,         nan, -0.20515826,  0.3130677 ],\n",
       "       [-0.85409574, -2.55298982,  0.6536186 ,  0.8644362 , -0.74216502],\n",
       "       [ 2.26975462, -1.45436567,  0.04575852, -0.18718385,  1.53277921],\n",
       "       [ 1.46935877,  0.15494743,  0.37816252, -0.88778575, -1.98079647],\n",
       "       [-0.34791215,  0.15634897,  1.23029068,         nan, -0.38732682]])"
      ]
     },
     "execution_count": 26,
     "metadata": {},
     "output_type": "execute_result"
    }
   ],
   "source": [
    "C = np.random.randn(5, 5)\n",
    "C[0, 2] = np.nan\n",
    "C[4, 3] = np.nan\n",
    "C"
   ]
  },
  {
   "cell_type": "code",
   "execution_count": 27,
   "id": "73a0f2e2",
   "metadata": {},
   "outputs": [
    {
     "data": {
      "text/plain": [
       "nan"
      ]
     },
     "execution_count": 27,
     "metadata": {},
     "output_type": "execute_result"
    }
   ],
   "source": [
    "C.mean()"
   ]
  },
  {
   "cell_type": "code",
   "execution_count": 28,
   "id": "14a22066",
   "metadata": {},
   "outputs": [],
   "source": [
    "#Ignorer les valeur nan avec des fonction de numpy"
   ]
  },
  {
   "cell_type": "code",
   "execution_count": 29,
   "id": "4c6801cd",
   "metadata": {},
   "outputs": [
    {
     "data": {
      "text/plain": [
       "0.010707879575141632"
      ]
     },
     "execution_count": 29,
     "metadata": {},
     "output_type": "execute_result"
    }
   ],
   "source": [
    "np.nanmean(C)"
   ]
  },
  {
   "cell_type": "code",
   "execution_count": 30,
   "id": "bdd84011",
   "metadata": {},
   "outputs": [
    {
     "data": {
      "text/plain": [
       "1.1017518326683546"
      ]
     },
     "execution_count": 30,
     "metadata": {},
     "output_type": "execute_result"
    }
   ],
   "source": [
    "np.nanstd(C)"
   ]
  },
  {
   "cell_type": "code",
   "execution_count": 31,
   "id": "a87b3518",
   "metadata": {},
   "outputs": [
    {
     "data": {
      "text/plain": [
       "1.213857100788078"
      ]
     },
     "execution_count": 31,
     "metadata": {},
     "output_type": "execute_result"
    }
   ],
   "source": [
    "np.nanvar(C)"
   ]
  },
  {
   "cell_type": "code",
   "execution_count": 32,
   "id": "158d987f",
   "metadata": {},
   "outputs": [],
   "source": [
    "#detecter et conter la présence de ses nan"
   ]
  },
  {
   "cell_type": "code",
   "execution_count": 33,
   "id": "77e15630",
   "metadata": {},
   "outputs": [
    {
     "data": {
      "text/plain": [
       "array([[False, False,  True, False, False],\n",
       "       [False, False, False, False, False],\n",
       "       [False, False, False, False, False],\n",
       "       [False, False, False, False, False],\n",
       "       [False, False, False,  True, False]])"
      ]
     },
     "execution_count": 33,
     "metadata": {},
     "output_type": "execute_result"
    }
   ],
   "source": [
    "np.isnan(C)"
   ]
  },
  {
   "cell_type": "code",
   "execution_count": 34,
   "id": "2ef9f723",
   "metadata": {},
   "outputs": [
    {
     "data": {
      "text/plain": [
       "2"
      ]
     },
     "execution_count": 34,
     "metadata": {},
     "output_type": "execute_result"
    }
   ],
   "source": [
    "#nombre de fois ou nous rencontrons nan dans notre tableau\n",
    "np.isnan(C).sum()"
   ]
  },
  {
   "cell_type": "code",
   "execution_count": 35,
   "id": "f012412c",
   "metadata": {},
   "outputs": [
    {
     "data": {
      "text/plain": [
       "0.08"
      ]
     },
     "execution_count": 35,
     "metadata": {},
     "output_type": "execute_result"
    }
   ],
   "source": [
    "#rapport de nan par apport à la taille de notre tableau\n",
    "np.isnan(C).sum()/C.size"
   ]
  },
  {
   "cell_type": "code",
   "execution_count": 36,
   "id": "4a38e987",
   "metadata": {},
   "outputs": [],
   "source": [
    "#cela signifie que 8 % de nos valeur son des nan"
   ]
  },
  {
   "cell_type": "code",
   "execution_count": 37,
   "id": "a298b777",
   "metadata": {},
   "outputs": [
    {
     "data": {
      "text/plain": [
       "array([[ 0.44386323,  0.33367433,  0.        , -0.20515826,  0.3130677 ],\n",
       "       [-0.85409574, -2.55298982,  0.6536186 ,  0.8644362 , -0.74216502],\n",
       "       [ 2.26975462, -1.45436567,  0.04575852, -0.18718385,  1.53277921],\n",
       "       [ 1.46935877,  0.15494743,  0.37816252, -0.88778575, -1.98079647],\n",
       "       [-0.34791215,  0.15634897,  1.23029068,  0.        , -0.38732682]])"
      ]
     },
     "execution_count": 37,
     "metadata": {},
     "output_type": "execute_result"
    }
   ],
   "source": [
    "#remplacer les nan de notre tableau grace à un masqu epar des valeur par défaut choisie\n",
    "C[np.isnan(C)] = 0\n",
    "C"
   ]
  },
  {
   "cell_type": "markdown",
   "id": "c86a7fc7",
   "metadata": {},
   "source": [
    "# Algebre Linéaire"
   ]
  },
  {
   "cell_type": "code",
   "execution_count": 38,
   "id": "4b3ad7c9",
   "metadata": {},
   "outputs": [],
   "source": [
    "D = np.ones((2, 3))\n",
    "E = np.ones((3, 2))"
   ]
  },
  {
   "cell_type": "code",
   "execution_count": 39,
   "id": "5200cdf5",
   "metadata": {},
   "outputs": [
    {
     "data": {
      "text/plain": [
       "array([[1., 1., 1.],\n",
       "       [1., 1., 1.]])"
      ]
     },
     "execution_count": 39,
     "metadata": {},
     "output_type": "execute_result"
    }
   ],
   "source": [
    "D"
   ]
  },
  {
   "cell_type": "code",
   "execution_count": 40,
   "id": "0efc0464",
   "metadata": {},
   "outputs": [
    {
     "data": {
      "text/plain": [
       "array([[1., 1.],\n",
       "       [1., 1.],\n",
       "       [1., 1.]])"
      ]
     },
     "execution_count": 40,
     "metadata": {},
     "output_type": "execute_result"
    }
   ],
   "source": [
    "E"
   ]
  },
  {
   "cell_type": "code",
   "execution_count": 41,
   "id": "a13bbf74",
   "metadata": {},
   "outputs": [
    {
     "data": {
      "text/plain": [
       "array([[1., 1.],\n",
       "       [1., 1.],\n",
       "       [1., 1.]])"
      ]
     },
     "execution_count": 41,
     "metadata": {},
     "output_type": "execute_result"
    }
   ],
   "source": [
    "#Transposition de matrice \n",
    "D.T"
   ]
  },
  {
   "cell_type": "code",
   "execution_count": 42,
   "id": "d2627019",
   "metadata": {},
   "outputs": [
    {
     "data": {
      "text/plain": [
       "array([[3., 3.],\n",
       "       [3., 3.]])"
      ]
     },
     "execution_count": 42,
     "metadata": {},
     "output_type": "execute_result"
    }
   ],
   "source": [
    "#Le produit de deux matrice de données\n",
    "D.dot(E)"
   ]
  },
  {
   "cell_type": "code",
   "execution_count": 43,
   "id": "3194c3d7",
   "metadata": {},
   "outputs": [
    {
     "data": {
      "text/plain": [
       "array([[2., 2., 2.],\n",
       "       [2., 2., 2.],\n",
       "       [2., 2., 2.]])"
      ]
     },
     "execution_count": 43,
     "metadata": {},
     "output_type": "execute_result"
    }
   ],
   "source": [
    "E.dot(D)"
   ]
  },
  {
   "cell_type": "code",
   "execution_count": 44,
   "id": "65f00e80",
   "metadata": {},
   "outputs": [],
   "source": [
    " F = np.random.randint(0, 10, [3, 3])"
   ]
  },
  {
   "cell_type": "code",
   "execution_count": 45,
   "id": "acf76edb",
   "metadata": {},
   "outputs": [
    {
     "data": {
      "text/plain": [
       "array([[3, 5, 9],\n",
       "       [4, 4, 6],\n",
       "       [4, 4, 3]])"
      ]
     },
     "execution_count": 45,
     "metadata": {},
     "output_type": "execute_result"
    }
   ],
   "source": [
    "F"
   ]
  },
  {
   "cell_type": "code",
   "execution_count": 46,
   "id": "be6ba871",
   "metadata": {},
   "outputs": [
    {
     "data": {
      "text/plain": [
       "23.999999999999993"
      ]
     },
     "execution_count": 46,
     "metadata": {},
     "output_type": "execute_result"
    }
   ],
   "source": [
    "#calculer le déterminant de ma matrice F\n",
    "np.linalg.det(F)"
   ]
  },
  {
   "cell_type": "code",
   "execution_count": 47,
   "id": "e1ccc5f4",
   "metadata": {},
   "outputs": [
    {
     "data": {
      "text/plain": [
       "array([[-0.5       ,  0.875     , -0.25      ],\n",
       "       [ 0.5       , -1.125     ,  0.75      ],\n",
       "       [-0.        ,  0.33333333, -0.33333333]])"
      ]
     },
     "execution_count": 47,
     "metadata": {},
     "output_type": "execute_result"
    }
   ],
   "source": [
    "#Inversion de ma matrice \n",
    "np.linalg.inv(F)"
   ]
  },
  {
   "cell_type": "markdown",
   "id": "f727dd3f",
   "metadata": {},
   "source": [
    "# Exercice"
   ]
  },
  {
   "cell_type": "markdown",
   "id": "8ebbbf9b",
   "metadata": {},
   "source": [
    "Standardisez la matrice G sur chaque colonne."
   ]
  },
  {
   "cell_type": "markdown",
   "id": "eaefff42",
   "metadata": {},
   "source": [
    "Résultat : chaque colonne doit avoir moyenne = 0 et écart type = 1"
   ]
  },
  {
   "cell_type": "markdown",
   "id": "f9693930",
   "metadata": {},
   "source": [
    "Calcule : G' = (G - mean(G)) / std(G)"
   ]
  },
  {
   "cell_type": "markdown",
   "id": "5195a868",
   "metadata": {},
   "source": [
    "### Mes Calcules"
   ]
  },
  {
   "cell_type": "code",
   "execution_count": 48,
   "id": "1e12e612",
   "metadata": {},
   "outputs": [
    {
     "data": {
      "text/plain": [
       "array([[44, 47, 64, 67, 67],\n",
       "       [ 9, 83, 21, 36, 87],\n",
       "       [70, 88, 88, 12, 58],\n",
       "       [65, 39, 87, 46, 88],\n",
       "       [81, 37, 25, 77, 72],\n",
       "       [ 9, 20, 80, 69, 79],\n",
       "       [47, 64, 82, 99, 88],\n",
       "       [49, 29, 19, 19, 14],\n",
       "       [39, 32, 65,  9, 57],\n",
       "       [32, 31, 74, 23, 35]])"
      ]
     },
     "execution_count": 48,
     "metadata": {},
     "output_type": "execute_result"
    }
   ],
   "source": [
    "np.random.seed(0)\n",
    "G = np.random.randint(0, 100, [10, 5])\n",
    "G"
   ]
  },
  {
   "cell_type": "code",
   "execution_count": 49,
   "id": "0f30caa5",
   "metadata": {},
   "outputs": [],
   "source": [
    "colone1 = G[:, 0]\n",
    "colone2 = G[:, 1]\n",
    "colone3 = G[:, 2]\n",
    "colone4 = G[:, 3]\n",
    "colone5 = G[:, 4]"
   ]
  },
  {
   "cell_type": "code",
   "execution_count": 50,
   "id": "1bc36e81",
   "metadata": {},
   "outputs": [],
   "source": [
    "colone1 = (colone1 - colone1.mean())/colone1.std()\n",
    "colone2 = (colone2 - colone2.mean())/colone2.std()\n",
    "colone3 = (colone3 - colone3.mean())/colone3.std()\n",
    "colone4 = (colone4 - colone4.mean())/colone4.std()\n",
    "colone5 = (colone5 - colone5.mean())/colone5.std()"
   ]
  },
  {
   "cell_type": "code",
   "execution_count": 51,
   "id": "b077a5c4",
   "metadata": {},
   "outputs": [
    {
     "data": {
      "text/plain": [
       "array([[ 0,  0,  0,  0,  0],\n",
       "       [-1,  1, -1,  0,  0],\n",
       "       [ 1,  1,  1, -1,  0],\n",
       "       [ 0,  0,  0,  0,  1],\n",
       "       [ 1,  0, -1,  1,  0],\n",
       "       [-1, -1,  0,  0,  0],\n",
       "       [ 0,  0,  0,  1,  1],\n",
       "       [ 0,  0, -1,  0, -2],\n",
       "       [ 0,  0,  0, -1,  0],\n",
       "       [ 0,  0,  0,  0, -1]])"
      ]
     },
     "execution_count": 51,
     "metadata": {},
     "output_type": "execute_result"
    }
   ],
   "source": [
    "G[:, 0] = colone1\n",
    "G[:, 1] = colone2\n",
    "G[:, 2] = colone3\n",
    "G[:, 3] = colone4\n",
    "G[:, 4] = colone5\n",
    "G"
   ]
  },
  {
   "cell_type": "markdown",
   "id": "f374966a",
   "metadata": {},
   "source": [
    "### Correction"
   ]
  },
  {
   "cell_type": "code",
   "execution_count": 52,
   "id": "933caa6c",
   "metadata": {},
   "outputs": [
    {
     "data": {
      "text/plain": [
       "array([[44, 47, 64, 67, 67],\n",
       "       [ 9, 83, 21, 36, 87],\n",
       "       [70, 88, 88, 12, 58],\n",
       "       [65, 39, 87, 46, 88],\n",
       "       [81, 37, 25, 77, 72],\n",
       "       [ 9, 20, 80, 69, 79],\n",
       "       [47, 64, 82, 99, 88],\n",
       "       [49, 29, 19, 19, 14],\n",
       "       [39, 32, 65,  9, 57],\n",
       "       [32, 31, 74, 23, 35]])"
      ]
     },
     "execution_count": 52,
     "metadata": {},
     "output_type": "execute_result"
    }
   ],
   "source": [
    "np.random.seed(0)\n",
    "G_correction = np.random.randint(0, 100, [10, 5])\n",
    "G_correction"
   ]
  },
  {
   "cell_type": "code",
   "execution_count": 53,
   "id": "42a76b43",
   "metadata": {},
   "outputs": [
    {
     "data": {
      "text/plain": [
       "array([[-0.02206157,  0.        ,  0.13173823,  0.72539252,  0.10755798],\n",
       "       [-1.56637126,  1.61579632, -1.48676006, -0.33034307,  0.96802178],\n",
       "       [ 1.12513992,  1.84021247,  1.03508612, -1.14768676, -0.27965074],\n",
       "       [ 0.90452425, -0.35906585,  0.99744662,  0.0102168 ,  1.01104497],\n",
       "       [ 1.6104944 , -0.44883231, -1.33620208,  1.0659524 ,  0.32267393],\n",
       "       [-1.56637126, -1.21184724,  0.73397016,  0.7935045 ,  0.62383626],\n",
       "       [ 0.11030784,  0.76301493,  0.80924915,  1.81518411,  1.01104497],\n",
       "       [ 0.1985541 , -0.80789816, -1.56203905, -0.90929485, -2.17267111],\n",
       "       [-0.24267724, -0.67324847,  0.16937773, -1.24985473, -0.32267393],\n",
       "       [-0.55153918, -0.7181317 ,  0.50813319, -0.77307091, -1.26918412]])"
      ]
     },
     "execution_count": 53,
     "metadata": {},
     "output_type": "execute_result"
    }
   ],
   "source": [
    "Result = (G_correction - G_correction.mean(axis=0)) / G_correction.std(axis=0)\n",
    "Result"
   ]
  },
  {
   "cell_type": "code",
   "execution_count": 54,
   "id": "5db5f620",
   "metadata": {},
   "outputs": [
    {
     "data": {
      "text/plain": [
       "array([-2.22044605e-17, -4.44089210e-17,  0.00000000e+00, -1.22124533e-16,\n",
       "       -4.44089210e-17])"
      ]
     },
     "execution_count": 54,
     "metadata": {},
     "output_type": "execute_result"
    }
   ],
   "source": [
    "Result.mean(axis=0)"
   ]
  },
  {
   "cell_type": "code",
   "execution_count": 55,
   "id": "06b5d0c9",
   "metadata": {},
   "outputs": [
    {
     "data": {
      "text/plain": [
       "array([1., 1., 1., 1., 1.])"
      ]
     },
     "execution_count": 55,
     "metadata": {},
     "output_type": "execute_result"
    }
   ],
   "source": [
    "Result.std(axis=0)"
   ]
  },
  {
   "cell_type": "markdown",
   "id": "2023df11",
   "metadata": {},
   "source": [
    "### Mon Erreur\n",
    "\n",
    "mon erreur à été de diviser l'oppération par colonne et de ne pas prendre en compte le fait que je devais me concentré que sur l'axe 0 et non sur les axes 1 par 1\n",
    "\n",
    "Ce que je dois retenir est que lors d'oppération de se type vaut mieux recrée un nouveau tableau"
   ]
  }
 ],
 "metadata": {
  "kernelspec": {
   "display_name": "Python 3 (ipykernel)",
   "language": "python",
   "name": "python3"
  },
  "language_info": {
   "codemirror_mode": {
    "name": "ipython",
    "version": 3
   },
   "file_extension": ".py",
   "mimetype": "text/x-python",
   "name": "python",
   "nbconvert_exporter": "python",
   "pygments_lexer": "ipython3",
   "version": "3.9.13"
  }
 },
 "nbformat": 4,
 "nbformat_minor": 5
}
