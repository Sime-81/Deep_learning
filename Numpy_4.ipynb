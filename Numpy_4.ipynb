{
 "cells": [
  {
   "cell_type": "markdown",
   "id": "70907595",
   "metadata": {},
   "source": [
    "# Broadcasting"
   ]
  },
  {
   "cell_type": "code",
   "execution_count": 1,
   "id": "652280ff",
   "metadata": {},
   "outputs": [],
   "source": [
    "import numpy as np"
   ]
  },
  {
   "cell_type": "code",
   "execution_count": 2,
   "id": "019c8d05",
   "metadata": {},
   "outputs": [],
   "source": [
    "np.random.seed(0)\n",
    "A = np.random.randint(0, 10, [4,1])\n",
    "B = np.ones((1, 3))"
   ]
  },
  {
   "cell_type": "code",
   "execution_count": 3,
   "id": "9c392be5",
   "metadata": {},
   "outputs": [
    {
     "data": {
      "text/plain": [
       "array([[5],\n",
       "       [0],\n",
       "       [3],\n",
       "       [3]])"
      ]
     },
     "execution_count": 3,
     "metadata": {},
     "output_type": "execute_result"
    }
   ],
   "source": [
    "A"
   ]
  },
  {
   "cell_type": "code",
   "execution_count": 4,
   "id": "38542dd7",
   "metadata": {},
   "outputs": [
    {
     "data": {
      "text/plain": [
       "array([[1., 1., 1.]])"
      ]
     },
     "execution_count": 4,
     "metadata": {},
     "output_type": "execute_result"
    }
   ],
   "source": [
    "B"
   ]
  },
  {
   "cell_type": "markdown",
   "id": "f0af2e41",
   "metadata": {},
   "source": [
    "# Explication"
   ]
  },
  {
   "cell_type": "markdown",
   "id": "bde9c58c",
   "metadata": {},
   "source": [
    "Le broadcasting permet d'étendre des matrices pour permettre de calculer des matrices impossible normalement \n",
    "\n",
    "exemple :"
   ]
  },
  {
   "cell_type": "code",
   "execution_count": 5,
   "id": "c1d8de61",
   "metadata": {},
   "outputs": [
    {
     "data": {
      "text/plain": [
       "array([[6., 6., 6.],\n",
       "       [1., 1., 1.],\n",
       "       [4., 4., 4.],\n",
       "       [4., 4., 4.]])"
      ]
     },
     "execution_count": 5,
     "metadata": {},
     "output_type": "execute_result"
    }
   ],
   "source": [
    "A + B"
   ]
  },
  {
   "cell_type": "markdown",
   "id": "a4e1ec29",
   "metadata": {},
   "source": [
    "Tout en respectant certaine condition applicable au matrice \n",
    "\n",
    "exemple :"
   ]
  },
  {
   "cell_type": "code",
   "execution_count": 6,
   "id": "06040e0f",
   "metadata": {},
   "outputs": [
    {
     "data": {
      "text/plain": [
       "array([[7, 9],\n",
       "       [3, 5],\n",
       "       [2, 4],\n",
       "       [7, 6]])"
      ]
     },
     "execution_count": 6,
     "metadata": {},
     "output_type": "execute_result"
    }
   ],
   "source": [
    "A = np.random.randint(0, 10, [4,2])\n",
    "A"
   ]
  },
  {
   "cell_type": "code",
   "execution_count": 7,
   "id": "ae50e637",
   "metadata": {},
   "outputs": [
    {
     "data": {
      "text/plain": [
       "array([[1., 1., 1.]])"
      ]
     },
     "execution_count": 7,
     "metadata": {},
     "output_type": "execute_result"
    }
   ],
   "source": [
    "B"
   ]
  },
  {
   "cell_type": "code",
   "execution_count": 8,
   "id": "f6cc1878",
   "metadata": {},
   "outputs": [
    {
     "ename": "ValueError",
     "evalue": "operands could not be broadcast together with shapes (4,2) (1,3) ",
     "output_type": "error",
     "traceback": [
      "\u001b[1;31m---------------------------------------------------------------------------\u001b[0m",
      "\u001b[1;31mValueError\u001b[0m                                Traceback (most recent call last)",
      "\u001b[1;32m~\\AppData\\Local\\Temp\\ipykernel_40340\\2673172716.py\u001b[0m in \u001b[0;36m<module>\u001b[1;34m\u001b[0m\n\u001b[1;32m----> 1\u001b[1;33m \u001b[0mA\u001b[0m \u001b[1;33m+\u001b[0m \u001b[0mB\u001b[0m\u001b[1;33m\u001b[0m\u001b[1;33m\u001b[0m\u001b[0m\n\u001b[0m",
      "\u001b[1;31mValueError\u001b[0m: operands could not be broadcast together with shapes (4,2) (1,3) "
     ]
    }
   ],
   "source": [
    "A + B"
   ]
  },
  {
   "cell_type": "markdown",
   "id": "3ab5f2f8",
   "metadata": {},
   "source": [
    "### Information exception\n",
    "\n",
    "_____\n",
    "\n",
    "Correct :\n",
    "(1, 4)\n",
    "(10, 1)\n",
    "\n",
    "Incorrect :\n",
    "(2, 3)\n",
    "(10, 5)\n",
    "\n",
    "##### ça permet d'étendre une matrice au dimension de l'autre pour pouvoir la calculer\n",
    "\n",
    "Applicable seulement si les taille des matrice sont identique au nombre de colonne et de ligne ou si le nombre différent d'une des matrice = 1\n"
   ]
  },
  {
   "cell_type": "markdown",
   "id": "3e1afb39",
   "metadata": {},
   "source": [
    "# Inconvéniant du Broadcasting"
   ]
  },
  {
   "cell_type": "markdown",
   "id": "3e797f51",
   "metadata": {},
   "source": [
    "lors de matrice de dimention incomplète :\n",
    "\n",
    "(5, ) \n",
    "\n",
    "Le programme estimera que le 5 est le dernier élément de la taille de ma matrice \n",
    "\n",
    "exemple :"
   ]
  },
  {
   "cell_type": "code",
   "execution_count": 13,
   "id": "ac951013",
   "metadata": {},
   "outputs": [],
   "source": [
    "A = np.random.randint(0,10, [4, 1])\n",
    "B = np.ones(5,)"
   ]
  },
  {
   "cell_type": "code",
   "execution_count": 11,
   "id": "7c14eb3f",
   "metadata": {},
   "outputs": [
    {
     "data": {
      "text/plain": [
       "array([[8],\n",
       "       [8],\n",
       "       [1],\n",
       "       [6]])"
      ]
     },
     "execution_count": 11,
     "metadata": {},
     "output_type": "execute_result"
    }
   ],
   "source": [
    "A"
   ]
  },
  {
   "cell_type": "code",
   "execution_count": 14,
   "id": "e22f48d9",
   "metadata": {
    "scrolled": true
   },
   "outputs": [
    {
     "data": {
      "text/plain": [
       "array([1., 1., 1., 1., 1.])"
      ]
     },
     "execution_count": 14,
     "metadata": {},
     "output_type": "execute_result"
    }
   ],
   "source": [
    "B"
   ]
  },
  {
   "cell_type": "code",
   "execution_count": 16,
   "id": "2a9cfef5",
   "metadata": {
    "scrolled": true
   },
   "outputs": [
    {
     "data": {
      "text/plain": [
       "array([[8., 8., 8., 8., 8.],\n",
       "       [8., 8., 8., 8., 8.],\n",
       "       [9., 9., 9., 9., 9.],\n",
       "       [2., 2., 2., 2., 2.]])"
      ]
     },
     "execution_count": 16,
     "metadata": {},
     "output_type": "execute_result"
    }
   ],
   "source": [
    "A + B"
   ]
  },
  {
   "cell_type": "markdown",
   "id": "4a1a504b",
   "metadata": {},
   "source": [
    "### Information sur la règles\n",
    "________\n",
    "\n",
    "On pourrait penser que ça ne fonctionnerais pas vu que les taille respective des deux tableaux ne respecte pas les règles :\n",
    "\n",
    "(4, 1)\n",
    "(5, )\n",
    "\n",
    "mais il considére le (5,) comme le dernière élèment de votre .shape\n",
    "\n",
    "Donc il est important de redimensionner vos élément pour avoir un une shape comme ceci :\n",
    "\n",
    "(5, 1)\n",
    "\n",
    "Ce qui évitera tout bug dans le future "
   ]
  }
 ],
 "metadata": {
  "kernelspec": {
   "display_name": "Python 3 (ipykernel)",
   "language": "python",
   "name": "python3"
  },
  "language_info": {
   "codemirror_mode": {
    "name": "ipython",
    "version": 3
   },
   "file_extension": ".py",
   "mimetype": "text/x-python",
   "name": "python",
   "nbconvert_exporter": "python",
   "pygments_lexer": "ipython3",
   "version": "3.11.5"
  }
 },
 "nbformat": 4,
 "nbformat_minor": 5
}
